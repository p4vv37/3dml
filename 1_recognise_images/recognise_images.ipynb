{
 "cells": [
  {
   "cell_type": "markdown",
   "metadata": {},
   "source": [
    "Basics: \n",
    "* Loading data\n",
    "* Image recognition\n",
    "* simple dense network\n",
    "* convolutional neural network."
   ]
  },
  {
   "cell_type": "code",
   "execution_count": 2,
   "metadata": {},
   "outputs": [
    {
     "name": "stderr",
     "output_type": "stream",
     "text": [
      "Using TensorFlow backend.\n"
     ]
    }
   ],
   "source": [
    "import os\n",
    "\n",
    "import numpy as np\n",
    "import matplotlib.pyplot as plt\n",
    "%matplotlib inline\n",
    "\n",
    "from keras.models import Sequential, load_model\n",
    "from keras import regularizers, callbacks\n",
    "from keras.layers import Flatten, Dense, Dropout\n",
    "from keras.utils import np_utils\n",
    "from keras.preprocessing.image import ImageDataGenerator\n"
   ]
  },
  {
   "cell_type": "code",
   "execution_count": 4,
   "metadata": {},
   "outputs": [
    {
     "name": "stdout",
     "output_type": "stream",
     "text": [
      "Found 4000 images belonging to 5 classes.\n",
      "Found 1000 images belonging to 5 classes.\n"
     ]
    }
   ],
   "source": [
    "datagen = ImageDataGenerator(validation_split=0.2,)\n",
    "BATCH_SIZE =32\n",
    "traning_data = datagen.flow_from_directory('generated_data/', \n",
    "                                           class_mode='categorical', \n",
    "                                           batch_size=BATCH_SIZE, \n",
    "                                           target_size=(128, 128),\n",
    "                                           color_mode=\"grayscale\",\n",
    "                                           subset='training')\n",
    "validation_data = datagen.flow_from_directory('generated_data/', \n",
    "                                           class_mode='categorical', \n",
    "                                           batch_size=BATCH_SIZE, \n",
    "                                           target_size=(128, 128),\n",
    "                                           color_mode=\"grayscale\",\n",
    "                                           subset='validation')\n"
   ]
  },
  {
   "cell_type": "code",
   "execution_count": 3,
   "metadata": {},
   "outputs": [
    {
     "name": "stdout",
     "output_type": "stream",
     "text": [
      "{'box': 0, 'crag': 1, 'pighead': 2, 'rubbertoy': 3, 'squab': 4}\n",
      "[0. 0. 1. 0. 0.] ['pighead']\n"
     ]
    },
    {
     "data": {
      "image/png": "[encoded data removed]",
      "text/plain": [
       "<Figure size 432x288 with 1 Axes>"
      ]
     },
     "metadata": {
      "needs_background": "light"
     },
     "output_type": "display_data"
    }
   ],
   "source": [
    "plt.imshow(traning_data[32][0][2,:].reshape(128, 128), cmap=plt.get_cmap('gray'))\n",
    "print(traning_data.class_indices)\n",
    "example_class = traning_data[1][1][0]\n",
    "print(example_class, [k for k, v in traning_data.class_indices.items() \n",
    "                      if v == np.where(example_class == 1)[0][0]])"
   ]
  },
  {
   "cell_type": "markdown",
   "metadata": {},
   "source": [
    "Simple dense network"
   ]
  },
  {
   "cell_type": "code",
   "execution_count": 5,
   "metadata": {},
   "outputs": [
    {
     "name": "stderr",
     "output_type": "stream",
     "text": [
      "WARNING: Logging before flag parsing goes to stderr.\n",
      "W1222 08:17:03.709770 140544333657920 module_wrapper.py:139] From /home/pawel/anaconda3/lib/python3.7/site-packages/keras/backend/tensorflow_backend.py:66: The name tf.get_default_graph is deprecated. Please use tf.compat.v1.get_default_graph instead.\n",
      "\n",
      "W1222 08:17:03.712584 140544333657920 module_wrapper.py:139] From /home/pawel/anaconda3/lib/python3.7/site-packages/keras/backend/tensorflow_backend.py:541: The name tf.placeholder is deprecated. Please use tf.compat.v1.placeholder instead.\n",
      "\n",
      "W1222 08:17:03.724702 140544333657920 module_wrapper.py:139] From /home/pawel/anaconda3/lib/python3.7/site-packages/keras/backend/tensorflow_backend.py:4432: The name tf.random_uniform is deprecated. Please use tf.random.uniform instead.\n",
      "\n"
     ]
    }
   ],
   "source": [
    "model = Sequential() \n",
    "\n",
    "model.add(Flatten(input_shape=(128, 128, 1))) \n",
    "model.add(Dense(4096, kernel_regularizer=regularizers.l2(0.0001), activation='relu'))  \n",
    "model.add(Dense(1024, kernel_regularizer=regularizers.l2(0.0001), activation='relu'))  \n",
    "model.add(Dense(128, kernel_regularizer=regularizers.l2(0.0001), activation='relu'))\n",
    "model.add(Dense(5, activation='softmax'))"
   ]
  },
  {
   "cell_type": "code",
   "execution_count": 6,
   "metadata": {},
   "outputs": [
    {
     "name": "stderr",
     "output_type": "stream",
     "text": [
      "W1222 08:17:05.643305 140544333657920 module_wrapper.py:139] From /home/pawel/anaconda3/lib/python3.7/site-packages/keras/optimizers.py:793: The name tf.train.Optimizer is deprecated. Please use tf.compat.v1.train.Optimizer instead.\n",
      "\n",
      "W1222 08:17:05.666641 140544333657920 module_wrapper.py:139] From /home/pawel/anaconda3/lib/python3.7/site-packages/keras/backend/tensorflow_backend.py:3576: The name tf.log is deprecated. Please use tf.math.log instead.\n",
      "\n"
     ]
    }
   ],
   "source": [
    "model.compile(optimizer='adam',\n",
    "             loss='categorical_crossentropy',  # categorical_binary for 0-1 categories\n",
    "             metrics=['accuracy']) "
   ]
  },
  {
   "cell_type": "code",
   "execution_count": 7,
   "metadata": {},
   "outputs": [
    {
     "name": "stdout",
     "output_type": "stream",
     "text": [
      "Model: \"sequential_1\"\n",
      "_________________________________________________________________\n",
      "Layer (type)                 Output Shape              Param #   \n",
      "=================================================================\n",
      "flatten_1 (Flatten)          (None, 16384)             0         \n",
      "_________________________________________________________________\n",
      "dense_1 (Dense)              (None, 4096)              67112960  \n",
      "_________________________________________________________________\n",
      "dense_2 (Dense)              (None, 1024)              4195328   \n",
      "_________________________________________________________________\n",
      "dense_3 (Dense)              (None, 128)               131200    \n",
      "_________________________________________________________________\n",
      "dense_4 (Dense)              (None, 5)                 645       \n",
      "=================================================================\n",
      "Total params: 71,440,133\n",
      "Trainable params: 71,440,133\n",
      "Non-trainable params: 0\n",
      "_________________________________________________________________\n"
     ]
    }
   ],
   "source": [
    "model.summary()"
   ]
  },
  {
   "cell_type": "code",
   "execution_count": 8,
   "metadata": {},
   "outputs": [],
   "source": [
    "early_stopping = callbacks.EarlyStopping(monitor='accuracy', verbose=0, patience=3)"
   ]
  },
  {
   "cell_type": "code",
   "execution_count": null,
   "metadata": {},
   "outputs": [
    {
     "name": "stderr",
     "output_type": "stream",
     "text": [
      "W1222 08:17:11.223376 140544333657920 deprecation.py:323] From /home/pawel/anaconda3/lib/python3.7/site-packages/tensorflow_core/python/ops/math_grad.py:1424: where (from tensorflow.python.ops.array_ops) is deprecated and will be removed in a future version.\n",
      "Instructions for updating:\n",
      "Use tf.where in 2.0, which has the same broadcast rule as np.where\n",
      "W1222 08:17:11.262778 140544333657920 module_wrapper.py:139] From /home/pawel/anaconda3/lib/python3.7/site-packages/keras/backend/tensorflow_backend.py:1033: The name tf.assign_add is deprecated. Please use tf.compat.v1.assign_add instead.\n",
      "\n",
      "W1222 08:17:11.334783 140544333657920 module_wrapper.py:139] From /home/pawel/anaconda3/lib/python3.7/site-packages/keras/backend/tensorflow_backend.py:1020: The name tf.assign is deprecated. Please use tf.compat.v1.assign instead.\n",
      "\n",
      "W1222 08:17:11.397446 140544333657920 module_wrapper.py:139] From /home/pawel/anaconda3/lib/python3.7/site-packages/keras/backend/tensorflow_backend.py:3005: The name tf.Session is deprecated. Please use tf.compat.v1.Session instead.\n",
      "\n",
      "W1222 08:17:11.436660 140544333657920 module_wrapper.py:139] From /home/pawel/anaconda3/lib/python3.7/site-packages/keras/backend/tensorflow_backend.py:190: The name tf.get_default_session is deprecated. Please use tf.compat.v1.get_default_session instead.\n",
      "\n",
      "W1222 08:17:11.438153 140544333657920 module_wrapper.py:139] From /home/pawel/anaconda3/lib/python3.7/site-packages/keras/backend/tensorflow_backend.py:197: The name tf.ConfigProto is deprecated. Please use tf.compat.v1.ConfigProto instead.\n",
      "\n"
     ]
    }
   ],
   "source": [
    "model.fit_generator(traning_data, \n",
    "                    epochs=500,\n",
    "                    steps_per_epoch=traning_data.n/BATCH_SIZE,\n",
    "                    validation_data=validation_data,\n",
    "                    validation_steps=validation_data.n/BATCH_SIZE,\n",
    "                    callbacks=[early_stopping]\n",
    "                   )"
   ]
  },
  {
   "cell_type": "code",
   "execution_count": 9,
   "metadata": {},
   "outputs": [
    {
     "data": {
      "text/plain": [
       "[0.44913220405578613, 0.9894501566886902]"
      ]
     },
     "execution_count": 9,
     "metadata": {},
     "output_type": "execute_result"
    }
   ],
   "source": [
    "model.evaluate_generator(validation_data, steps=100)"
   ]
  },
  {
   "cell_type": "code",
   "execution_count": 10,
   "metadata": {},
   "outputs": [],
   "source": [
    "model.save('recognise_images_dense.model')"
   ]
  },
  {
   "cell_type": "code",
   "execution_count": 11,
   "metadata": {},
   "outputs": [],
   "source": [
    "loaded_model = load_model('recognise_images_dense.model')"
   ]
  },
  {
   "cell_type": "code",
   "execution_count": 12,
   "metadata": {},
   "outputs": [
    {
     "name": "stdout",
     "output_type": "stream",
     "text": [
      "[[0.0000000e+00 0.0000000e+00 1.0000000e+00 0.0000000e+00 0.0000000e+00]\n",
      " [0.0000000e+00 0.0000000e+00 0.0000000e+00 1.0000000e+00 0.0000000e+00]\n",
      " [0.0000000e+00 0.0000000e+00 1.0000000e+00 0.0000000e+00 0.0000000e+00]\n",
      " ...\n",
      " [1.0000000e+00 0.0000000e+00 0.0000000e+00 0.0000000e+00 0.0000000e+00]\n",
      " [2.2040020e-24 0.0000000e+00 1.0000000e+00 0.0000000e+00 2.8721455e-34]\n",
      " [1.0000000e+00 0.0000000e+00 0.0000000e+00 0.0000000e+00 0.0000000e+00]]\n"
     ]
    }
   ],
   "source": [
    "predictions = loaded_model.predict_generator(validation_data, steps=10)\n",
    "print(predictions)"
   ]
  },
  {
   "cell_type": "code",
   "execution_count": 13,
   "metadata": {},
   "outputs": [
    {
     "name": "stdout",
     "output_type": "stream",
     "text": [
      "[5.5441586e-24 0.0000000e+00 1.0000000e+00 0.0000000e+00 1.2636886e-31]\n",
      "best guess:  pighead\n",
      "filename:  box/0023.png\n"
     ]
    },
    {
     "data": {
      "text/plain": [
       "<matplotlib.image.AxesImage at 0x7fa6ec8302e8>"
      ]
     },
     "execution_count": 13,
     "metadata": {},
     "output_type": "execute_result"
    },
    {
     "data": {
      "image/png": "[encoded data removed]",
      "text/plain": [
       "<Figure size 432x288 with 1 Axes>"
      ]
     },
     "metadata": {
      "needs_background": "light"
     },
     "output_type": "display_data"
    }
   ],
   "source": [
    "idx = 22\n",
    "print(predictions[idx]) \n",
    "reversed_classes = {v: k for k, v in validation_data.class_indices.items()}\n",
    "print(\"best guess: \", reversed_classes[np.argmax(predictions[idx])])\n",
    "print(\"filename: \", validation_data.filenames[idx])\n",
    "plt.imshow(validation_data[idx][0][0,:].reshape(128, 128), cmap=plt.get_cmap('gray'))"
   ]
  },
  {
   "cell_type": "markdown",
   "metadata": {},
   "source": [
    "CNN - convolutional neural network"
   ]
  },
  {
   "cell_type": "code",
   "execution_count": 14,
   "metadata": {},
   "outputs": [],
   "source": [
    "from keras.layers import Conv2D, MaxPooling2D\n",
    "from keras.layers.normalization import BatchNormalization"
   ]
  },
  {
   "cell_type": "code",
   "execution_count": 15,
   "metadata": {},
   "outputs": [
    {
     "name": "stderr",
     "output_type": "stream",
     "text": [
      "W1210 21:22:53.586114 140356428654400 deprecation_wrapper.py:119] From /home/pawel/anaconda3/lib/python3.7/site-packages/keras/backend/tensorflow_backend.py:4070: The name tf.nn.max_pool is deprecated. Please use tf.nn.max_pool2d instead.\n",
      "\n"
     ]
    },
    {
     "name": "stdout",
     "output_type": "stream",
     "text": [
      "Model: \"sequential_2\"\n",
      "_________________________________________________________________\n",
      "Layer (type)                 Output Shape              Param #   \n",
      "=================================================================\n",
      "conv2d_1 (Conv2D)            (None, 128, 128, 16)      416       \n",
      "_________________________________________________________________\n",
      "batch_normalization_1 (Batch (None, 128, 128, 16)      64        \n",
      "_________________________________________________________________\n",
      "max_pooling2d_1 (MaxPooling2 (None, 64, 64, 16)        0         \n",
      "_________________________________________________________________\n",
      "dropout_1 (Dropout)          (None, 64, 64, 16)        0         \n",
      "_________________________________________________________________\n",
      "conv2d_2 (Conv2D)            (None, 64, 64, 32)        12832     \n",
      "_________________________________________________________________\n",
      "batch_normalization_2 (Batch (None, 64, 64, 32)        128       \n",
      "_________________________________________________________________\n",
      "max_pooling2d_2 (MaxPooling2 (None, 32, 32, 32)        0         \n",
      "_________________________________________________________________\n",
      "dropout_2 (Dropout)          (None, 32, 32, 32)        0         \n",
      "_________________________________________________________________\n",
      "flatten_2 (Flatten)          (None, 32768)             0         \n",
      "_________________________________________________________________\n",
      "dense_5 (Dense)              (None, 128)               4194432   \n",
      "_________________________________________________________________\n",
      "dense_6 (Dense)              (None, 5)                 645       \n",
      "=================================================================\n",
      "Total params: 4,208,517\n",
      "Trainable params: 4,208,421\n",
      "Non-trainable params: 96\n",
      "_________________________________________________________________\n"
     ]
    }
   ],
   "source": [
    "# Build convolutional neural network\n",
    "\n",
    "model_cnn = Sequential()\n",
    "\n",
    "model_cnn.add(Conv2D(16,(5,5), padding = 'same', activation = 'relu', input_shape = (128,128,1)))\n",
    "model_cnn.add(BatchNormalization())\n",
    "model_cnn.add(MaxPooling2D(pool_size = (2,2)))\n",
    "model_cnn.add(Dropout(0.1))\n",
    "\n",
    "model_cnn.add(Conv2D(32, (5,5), padding = 'same', activation = 'relu'))\n",
    "model_cnn.add(BatchNormalization())\n",
    "model_cnn.add(MaxPooling2D(pool_size = (2,2)))\n",
    "model_cnn.add(Dropout(0.1))\n",
    "\n",
    "model_cnn.add(Flatten())\n",
    "model_cnn.add(Dense(128, activation = 'relu'))\n",
    "model_cnn.add(Dense(5, activation=\"tanh\"))\n",
    "\n",
    "\n",
    "model_cnn.compile(optimizer = 'adam',\n",
    "              loss = \"categorical_crossentropy\",\n",
    "              metrics = ['accuracy'])\n",
    "model_cnn.summary()"
   ]
  },
  {
   "cell_type": "code",
   "execution_count": 16,
   "metadata": {},
   "outputs": [
    {
     "name": "stderr",
     "output_type": "stream",
     "text": [
      "W1210 21:22:53.846492 140356428654400 deprecation.py:323] From /home/pawel/anaconda3/lib/python3.7/site-packages/tensorflow/python/ops/math_grad.py:1250: add_dispatch_support.<locals>.wrapper (from tensorflow.python.ops.array_ops) is deprecated and will be removed in a future version.\n",
      "Instructions for updating:\n",
      "Use tf.where in 2.0, which has the same broadcast rule as np.where\n"
     ]
    },
    {
     "name": "stdout",
     "output_type": "stream",
     "text": [
      "Epoch 1/500\n",
      "125/125 [==============================] - 35s 279ms/step - loss: 6.4528 - accuracy: 0.1988 - val_loss: 4.0295 - val_accuracy: 0.2000\n",
      "Epoch 2/500\n",
      "125/125 [==============================] - 34s 273ms/step - loss: 6.4472 - accuracy: 0.2000 - val_loss: 10.0738 - val_accuracy: 0.2000\n",
      "Epoch 3/500\n",
      "125/125 [==============================] - 33s 263ms/step - loss: 6.4472 - accuracy: 0.2000 - val_loss: 6.0443 - val_accuracy: 0.2000\n",
      "Epoch 4/500\n",
      "125/125 [==============================] - 33s 267ms/step - loss: 6.4472 - accuracy: 0.2000 - val_loss: 6.0443 - val_accuracy: 0.2000\n",
      "Epoch 5/500\n",
      "125/125 [==============================] - 33s 262ms/step - loss: 6.4472 - accuracy: 0.2000 - val_loss: 8.0590 - val_accuracy: 0.2000\n",
      "Epoch 00005: early stopping\n"
     ]
    }
   ],
   "source": [
    "# Using workers=2, use_multiprocessing=True sometimes resulted in freeze\n",
    "result_cnn = model_cnn.fit_generator(traning_data, verbose=0, validation_data=validation_data,\n",
    "                                            epochs=500, \n",
    "                                    callbacks=[early_stopping])\n",
    "model_cnn.save('recognise_images_cnn.model')"
   ]
  },
  {
   "cell_type": "code",
   "execution_count": 17,
   "metadata": {},
   "outputs": [],
   "source": [
    "loaded_model = load_model('recognise_images_cnn.model')"
   ]
  },
  {
   "cell_type": "code",
   "execution_count": 18,
   "metadata": {},
   "outputs": [
    {
     "name": "stdout",
     "output_type": "stream",
     "text": [
      "[[ 1. -1.  1. -1.  1.]\n",
      " [ 1. -1.  1. -1.  1.]\n",
      " [ 1. -1.  1. -1.  1.]\n",
      " ...\n",
      " [ 1. -1.  1. -1.  1.]\n",
      " [ 1. -1.  1. -1.  1.]\n",
      " [ 1. -1.  1. -1.  1.]]\n"
     ]
    }
   ],
   "source": [
    "predictions = loaded_model.predict_generator(validation_data, steps=10)\n",
    "print(predictions)"
   ]
  },
  {
   "cell_type": "code",
   "execution_count": 19,
   "metadata": {},
   "outputs": [
    {
     "name": "stdout",
     "output_type": "stream",
     "text": [
      "[ 1. -1.  1. -1.  1.]\n",
      "best guess:  box\n",
      "filename:  box/0023.png\n"
     ]
    },
    {
     "data": {
      "text/plain": [
       "<matplotlib.image.AxesImage at 0x7fa6ccddac18>"
      ]
     },
     "execution_count": 19,
     "metadata": {},
     "output_type": "execute_result"
    },
    {
     "data": {
      "image/png": "[encoded data removed]",
      "text/plain": [
       "<Figure size 432x288 with 1 Axes>"
      ]
     },
     "metadata": {
      "needs_background": "light"
     },
     "output_type": "display_data"
    }
   ],
   "source": [
    "idx = 22\n",
    "print(predictions[idx]) \n",
    "reversed_classes = {v: k for k, v in validation_data.class_indices.items()}\n",
    "print(\"best guess: \", reversed_classes[np.argmax(predictions[idx])])\n",
    "print(\"filename: \", validation_data.filenames[idx])\n",
    "plt.imshow(validation_data[idx][0][0,:].reshape(128, 128), cmap=plt.get_cmap('gray'))"
   ]
  }
 ],
 "metadata": {
  "kernelspec": {
   "display_name": "Python [conda env:root] *",
   "language": "python",
   "name": "conda-root-py"
  },
  "language_info": {
   "codemirror_mode": {
    "name": "ipython",
    "version": 3
   },
   "file_extension": ".py",
   "mimetype": "text/x-python",
   "name": "python",
   "nbconvert_exporter": "python",
   "pygments_lexer": "ipython3",
   "version": "3.7.3"
  }
 },
 "nbformat": 4,
 "nbformat_minor": 2
}
