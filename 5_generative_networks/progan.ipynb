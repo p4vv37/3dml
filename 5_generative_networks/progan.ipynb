{
 "cells": [
  {
   "cell_type": "code",
   "execution_count": 1,
   "metadata": {},
   "outputs": [
    {
     "name": "stderr",
     "output_type": "stream",
     "text": [
      "/home/pawel/.local/lib/python3.7/site-packages/tensorflow/python/framework/dtypes.py:516: FutureWarning: Passing (type, 1) or '1type' as a synonym of type is deprecated; in a future version of numpy, it will be understood as (type, (1,)) / '(1,)type'.\n",
      "  _np_qint8 = np.dtype([(\"qint8\", np.int8, 1)])\n",
      "/home/pawel/.local/lib/python3.7/site-packages/tensorflow/python/framework/dtypes.py:517: FutureWarning: Passing (type, 1) or '1type' as a synonym of type is deprecated; in a future version of numpy, it will be understood as (type, (1,)) / '(1,)type'.\n",
      "  _np_quint8 = np.dtype([(\"quint8\", np.uint8, 1)])\n",
      "/home/pawel/.local/lib/python3.7/site-packages/tensorflow/python/framework/dtypes.py:518: FutureWarning: Passing (type, 1) or '1type' as a synonym of type is deprecated; in a future version of numpy, it will be understood as (type, (1,)) / '(1,)type'.\n",
      "  _np_qint16 = np.dtype([(\"qint16\", np.int16, 1)])\n",
      "/home/pawel/.local/lib/python3.7/site-packages/tensorflow/python/framework/dtypes.py:519: FutureWarning: Passing (type, 1) or '1type' as a synonym of type is deprecated; in a future version of numpy, it will be understood as (type, (1,)) / '(1,)type'.\n",
      "  _np_quint16 = np.dtype([(\"quint16\", np.uint16, 1)])\n",
      "/home/pawel/.local/lib/python3.7/site-packages/tensorflow/python/framework/dtypes.py:520: FutureWarning: Passing (type, 1) or '1type' as a synonym of type is deprecated; in a future version of numpy, it will be understood as (type, (1,)) / '(1,)type'.\n",
      "  _np_qint32 = np.dtype([(\"qint32\", np.int32, 1)])\n",
      "/home/pawel/.local/lib/python3.7/site-packages/tensorflow/python/framework/dtypes.py:525: FutureWarning: Passing (type, 1) or '1type' as a synonym of type is deprecated; in a future version of numpy, it will be understood as (type, (1,)) / '(1,)type'.\n",
      "  np_resource = np.dtype([(\"resource\", np.ubyte, 1)])\n",
      "Using TensorFlow backend.\n"
     ]
    },
    {
     "name": "stdout",
     "output_type": "stream",
     "text": [
      "-------------\n",
      "\n",
      "\n",
      "GPU:True\n",
      "\n",
      "\n",
      "-------------\n",
      "Num GPUs: 1\n",
      "1.3741088103166372\n",
      "2.0015570338626403\n",
      "2.0\n",
      "[INFO] training with 1 GPU...\n",
      "1.578436529997654\n",
      "2.29739670999407\n",
      "2.29739670999407\n",
      "WARNING:tensorflow:From /home/pawel/anaconda3/lib/python3.7/site-packages/keras/backend/tensorflow_backend.py:4074: The name tf.nn.avg_pool is deprecated. Please use tf.nn.avg_pool2d instead.\n",
      "\n",
      "[INFO] training with 1 GPU...\n",
      "tracking <tf.Variable 'ws_alpha:0' shape=() dtype=float32> alpha\n",
      "[INFO] training with 1 GPU...\n",
      "1.8131474454755332\n",
      "2.639015821545789\n",
      "2.639015821545789\n",
      "[INFO] training with 1 GPU...\n",
      "tracking <tf.Variable 'ws_alpha_1:0' shape=() dtype=float32> alpha\n",
      "[INFO] training with 1 GPU...\n",
      "2.0827594879848212\n",
      "3.0314331330207964\n",
      "3.0314331330207964\n",
      "[INFO] training with 1 GPU...\n",
      "tracking <tf.Variable 'ws_alpha_2:0' shape=() dtype=float32> alpha\n",
      "[INFO] training with 1 GPU...\n",
      "2.392462397702631\n",
      "3.482202253184497\n",
      "3.482202253184497\n",
      "[INFO] training with 1 GPU...\n",
      "tracking <tf.Variable 'ws_alpha_3:0' shape=() dtype=float32> alpha\n",
      "[INFO] training with 1 GPU...\n",
      "2.7482176206332745\n",
      "4.0\n",
      "4.0\n",
      "[INFO] training with 1 GPU...\n",
      "tracking <tf.Variable 'ws_alpha_4:0' shape=() dtype=float32> alpha\n",
      "[INFO] training with 1 GPU...\n",
      "3.156873059995308\n",
      "4.59479341998814\n",
      "4.59479341998814\n",
      "[INFO] training with 1 GPU...\n",
      "tracking <tf.Variable 'ws_alpha_5:0' shape=() dtype=float32> alpha\n",
      "[INFO] training with 1 GPU...\n",
      "2.0\n",
      "2.0\n",
      "2.0\n",
      "[INFO] training with 1 GPU...\n",
      "2.29739670999407\n",
      "2.4622888266898326\n",
      "2.4622888266898326\n",
      "[INFO] training with 1 GPU...\n",
      "tracking <tf.Variable 'ws_alpha_6:0' shape=() dtype=float32> alpha\n",
      "[INFO] training with 1 GPU...\n",
      "2.8284271247461903\n",
      "2.8284271247461903\n",
      "2.8284271247461903\n",
      "[INFO] training with 1 GPU...\n",
      "tracking <tf.Variable 'ws_alpha_7:0' shape=() dtype=float32> alpha\n",
      "[INFO] training with 1 GPU...\n",
      "3.2490095854249423\n",
      "3.2490095854249423\n",
      "3.2490095854249423\n",
      "[INFO] training with 1 GPU...\n",
      "tracking <tf.Variable 'ws_alpha_8:0' shape=() dtype=float32> alpha\n",
      "[INFO] training with 1 GPU...\n",
      "3.73213196614723\n",
      "3.73213196614723\n",
      "3.73213196614723\n",
      "[INFO] training with 1 GPU...\n",
      "tracking <tf.Variable 'ws_alpha_9:0' shape=() dtype=float32> alpha\n",
      "[INFO] training with 1 GPU...\n",
      "4.287093850145173\n",
      "4.287093850145173\n",
      "4.287093850145173\n",
      "[INFO] training with 1 GPU...\n",
      "tracking <tf.Variable 'ws_alpha_10:0' shape=() dtype=float32> alpha\n",
      "[INFO] training with 1 GPU...\n",
      "4.924577653379665\n",
      "4.924577653379665\n",
      "4.924577653379665\n",
      "[INFO] training with 1 GPU...\n",
      "tracking <tf.Variable 'ws_alpha_11:0' shape=() dtype=float32> alpha\n",
      "[INFO] training with 1 GPU...\n",
      "[INFO] training with 1 GPU...\n",
      "[INFO] training with 1 GPU...\n",
      "[INFO] training with 1 GPU...\n",
      "[INFO] training with 1 GPU...\n",
      "[INFO] training with 1 GPU...\n",
      "[INFO] training with 1 GPU...\n",
      "[INFO] training with 1 GPU...\n",
      "[INFO] training with 1 GPU...\n",
      "[INFO] training with 1 GPU...\n",
      "[INFO] training with 1 GPU...\n",
      "[INFO] training with 1 GPU...\n",
      "[INFO] training with 1 GPU...\n",
      "[INFO] training with 1 GPU...\n",
      "[INFO] training with 1 GPU...\n",
      "Found 160 images belonging to 1 classes.\n",
      "Found 0 images belonging to 1 classes.\n",
      "Scaled Data (None, 4, 4, 3)\n",
      "WARNING:tensorflow:From /home/pawel/anaconda3/lib/python3.7/site-packages/keras/backend/tensorflow_backend.py:422: The name tf.global_variables is deprecated. Please use tf.compat.v1.global_variables instead.\n",
      "\n",
      "WARNING:tensorflow:From /home/pawel/.local/lib/python3.7/site-packages/tensorflow/python/ops/math_grad.py:1250: add_dispatch_support.<locals>.wrapper (from tensorflow.python.ops.array_ops) is deprecated and will be removed in a future version.\n",
      "Instructions for updating:\n",
      "Use tf.where in 2.0, which has the same broadcast rule as np.where\n"
     ]
    },
    {
     "name": "stderr",
     "output_type": "stream",
     "text": [
      "/home/pawel/anaconda3/lib/python3.7/site-packages/keras/engine/training.py:297: UserWarning: Discrepancy between trainable weights and collected trainable weights, did you set `model.trainable` without calling `model.compile` after ?\n",
      "  'Discrepancy between trainable weights and collected trainable'\n",
      "/home/pawel/anaconda3/lib/python3.7/site-packages/keras/engine/training.py:297: UserWarning: Discrepancy between trainable weights and collected trainable weights, did you set `model.trainable` without calling `model.compile` after ?\n",
      "  'Discrepancy between trainable weights and collected trainable'\n"
     ]
    },
    {
     "name": "stdout",
     "output_type": "stream",
     "text": [
      "\r",
      ">1/5120, d1=0.000, d2=0.008 g=0.015\r",
      ">2/5120, d1=0.046, d2=0.586 g=2.086\r",
      ">3/5120, d1=0.248, d2=-0.448 g=5.460\r",
      ">4/5120, d1=-0.109, d2=0.012 g=0.095\r",
      ">5/5120, d1=-0.450, d2=0.670 g=-0.180\r",
      ">6/5120, d1=-0.486, d2=0.491 g=-0.296\r",
      ">7/5120, d1=-0.656, d2=1.273 g=-0.132"
     ]
    },
    {
     "name": "stderr",
     "output_type": "stream",
     "text": [
      "/home/pawel/anaconda3/lib/python3.7/site-packages/keras/engine/training.py:297: UserWarning: Discrepancy between trainable weights and collected trainable weights, did you set `model.trainable` without calling `model.compile` after ?\n",
      "  'Discrepancy between trainable weights and collected trainable'\n"
     ]
    },
    {
     "name": "stdout",
     "output_type": "stream",
     "text": [
      ">5120/5120, d1=-37853.723, d2=-2739.999 g=10017.8016\n",
      ">Saved: plot_004x004-tuned.png and model_004x004-tuned.h5\n"
     ]
    },
    {
     "data": {
      "image/png": "[encoded data removed]",
      "text/plain": [
       "<Figure size 72x288 with 4 Axes>"
      ]
     },
     "metadata": {},
     "output_type": "display_data"
    },
    {
     "name": "stdout",
     "output_type": "stream",
     "text": [
      "Found 160 images belonging to 1 classes.\n",
      "Found 0 images belonging to 1 classes.\n",
      "Scaled Data (None, 8, 8, 3)\n"
     ]
    },
    {
     "name": "stderr",
     "output_type": "stream",
     "text": [
      "/home/pawel/anaconda3/lib/python3.7/site-packages/keras/engine/training.py:297: UserWarning: Discrepancy between trainable weights and collected trainable weights, did you set `model.trainable` without calling `model.compile` after ?\n",
      "  'Discrepancy between trainable weights and collected trainable'\n"
     ]
    },
    {
     "name": "stdout",
     "output_type": "stream",
     "text": [
      "\r",
      ">1/10240, d1=18915.617, d2=-9341.139 g=9886.793\r",
      ">2/10240, d1=21791.699, d2=-3010.722 g=2761.095\r",
      ">3/10240, d1=12515.613, d2=-1705.237 g=9424.373\r",
      ">4/10240, d1=12311.758, d2=-6901.798 g=11224.942\r",
      ">5/10240, d1=6955.551, d2=-2455.935 g=7295.264\r",
      ">6/10240, d1=14211.494, d2=-8360.023 g=4386.354"
     ]
    },
    {
     "name": "stderr",
     "output_type": "stream",
     "text": [
      "/home/pawel/anaconda3/lib/python3.7/site-packages/keras/engine/training.py:297: UserWarning: Discrepancy between trainable weights and collected trainable weights, did you set `model.trainable` without calling `model.compile` after ?\n",
      "  'Discrepancy between trainable weights and collected trainable'\n"
     ]
    },
    {
     "name": "stdout",
     "output_type": "stream",
     "text": [
      ">3977/10240, d1=-198101504.000, d2=93855368.000 g=13300662.000000"
     ]
    },
    {
     "ename": "KeyboardInterrupt",
     "evalue": "",
     "output_type": "error",
     "traceback": [
      "\u001b[0;31m---------------------------------------------------------------------------\u001b[0m",
      "\u001b[0;31mKeyboardInterrupt\u001b[0m                         Traceback (most recent call last)",
      "\u001b[0;32m<ipython-input-1-813de0ddf679>\u001b[0m in \u001b[0;36m<module>\u001b[0;34m\u001b[0m\n\u001b[1;32m      1\u001b[0m \u001b[0;32mfrom\u001b[0m \u001b[0mprogan\u001b[0m \u001b[0;32mimport\u001b[0m \u001b[0mmain\u001b[0m\u001b[0;34m\u001b[0m\u001b[0;34m\u001b[0m\u001b[0m\n\u001b[0;32m----> 2\u001b[0;31m \u001b[0mmain\u001b[0m\u001b[0;34m(\u001b[0m\u001b[0;36m4\u001b[0m\u001b[0;34m)\u001b[0m\u001b[0;34m\u001b[0m\u001b[0;34m\u001b[0m\u001b[0m\n\u001b[0m",
      "\u001b[0;32m~/git/3dml/5_generative_networks/progan/__init__.py\u001b[0m in \u001b[0;36mmain\u001b[0;34m(runs, gpus)\u001b[0m\n\u001b[1;32m     26\u001b[0m     \u001b[0;32mfor\u001b[0m \u001b[0mr\u001b[0m \u001b[0;32min\u001b[0m \u001b[0mrange\u001b[0m\u001b[0;34m(\u001b[0m\u001b[0mruns\u001b[0m\u001b[0;34m)\u001b[0m\u001b[0;34m:\u001b[0m\u001b[0;34m\u001b[0m\u001b[0;34m\u001b[0m\u001b[0m\n\u001b[1;32m     27\u001b[0m         train(g_models, d_models, gan_models, data_dir, latent_dim,\n\u001b[0;32m---> 28\u001b[0;31m           PARAMETERS.n_epochs, PARAMETERS.n_epochs, PARAMETERS.n_batch)\n\u001b[0m\u001b[1;32m     29\u001b[0m \u001b[0;34m\u001b[0m\u001b[0m\n\u001b[1;32m     30\u001b[0m \u001b[0;34m\u001b[0m\u001b[0m\n",
      "\u001b[0;32m~/git/3dml/5_generative_networks/progan/train.py\u001b[0m in \u001b[0;36mtrain\u001b[0;34m(g_models, d_models, gan_models, dataset_dir, latent_dim, e_norm, e_fadein, n_batch)\u001b[0m\n\u001b[1;32m     64\u001b[0m         \u001b[0mprint\u001b[0m\u001b[0;34m(\u001b[0m\u001b[0;34m'Scaled Data'\u001b[0m\u001b[0;34m,\u001b[0m \u001b[0mgen_shape\u001b[0m\u001b[0;34m)\u001b[0m\u001b[0;34m\u001b[0m\u001b[0;34m\u001b[0m\u001b[0m\n\u001b[1;32m     65\u001b[0m         \u001b[0;31m# train fade-in models for next level of growth\u001b[0m\u001b[0;34m\u001b[0m\u001b[0;34m\u001b[0m\u001b[0;34m\u001b[0m\u001b[0m\n\u001b[0;32m---> 66\u001b[0;31m         \u001b[0mtrain_epochs\u001b[0m\u001b[0;34m(\u001b[0m\u001b[0mg_fadein\u001b[0m\u001b[0;34m,\u001b[0m \u001b[0md_fadein\u001b[0m\u001b[0;34m,\u001b[0m \u001b[0mgan_fadein\u001b[0m\u001b[0;34m,\u001b[0m \u001b[0mdataset\u001b[0m\u001b[0;34m,\u001b[0m \u001b[0me_fadein\u001b[0m\u001b[0;34m[\u001b[0m\u001b[0mi\u001b[0m\u001b[0;34m]\u001b[0m\u001b[0;34m,\u001b[0m \u001b[0mn_batch\u001b[0m\u001b[0;34m[\u001b[0m\u001b[0mi\u001b[0m\u001b[0;34m]\u001b[0m\u001b[0;34m,\u001b[0m \u001b[0mlatent_dim\u001b[0m\u001b[0;34m,\u001b[0m \u001b[0;32mTrue\u001b[0m\u001b[0;34m)\u001b[0m\u001b[0;34m\u001b[0m\u001b[0;34m\u001b[0m\u001b[0m\n\u001b[0m\u001b[1;32m     67\u001b[0m         \u001b[0msummarize_performance\u001b[0m\u001b[0;34m(\u001b[0m\u001b[0;34m'faded'\u001b[0m\u001b[0;34m,\u001b[0m \u001b[0mg_fadein\u001b[0m\u001b[0;34m,\u001b[0m \u001b[0mlatent_dim\u001b[0m\u001b[0;34m)\u001b[0m\u001b[0;34m\u001b[0m\u001b[0;34m\u001b[0m\u001b[0m\n\u001b[1;32m     68\u001b[0m         \u001b[0;31m# train normal or straight-through models\u001b[0m\u001b[0;34m\u001b[0m\u001b[0;34m\u001b[0m\u001b[0;34m\u001b[0m\u001b[0m\n",
      "\u001b[0;32m~/git/3dml/5_generative_networks/progan/train.py\u001b[0m in \u001b[0;36mtrain_epochs\u001b[0;34m(g_model, d_model, gan_model, dataset, n_epochs, n_batch, latent_dim, fadein)\u001b[0m\n\u001b[1;32m     28\u001b[0m         \u001b[0;31m# update discriminator model\u001b[0m\u001b[0;34m\u001b[0m\u001b[0;34m\u001b[0m\u001b[0;34m\u001b[0m\u001b[0m\n\u001b[1;32m     29\u001b[0m         \u001b[0md_loss1\u001b[0m \u001b[0;34m=\u001b[0m \u001b[0md_model\u001b[0m\u001b[0;34m.\u001b[0m\u001b[0mtrain_on_batch\u001b[0m\u001b[0;34m(\u001b[0m\u001b[0mX_real\u001b[0m\u001b[0;34m,\u001b[0m \u001b[0my_real\u001b[0m\u001b[0;34m)\u001b[0m\u001b[0;34m\u001b[0m\u001b[0;34m\u001b[0m\u001b[0m\n\u001b[0;32m---> 30\u001b[0;31m         \u001b[0md_loss2\u001b[0m \u001b[0;34m=\u001b[0m \u001b[0md_model\u001b[0m\u001b[0;34m.\u001b[0m\u001b[0mtrain_on_batch\u001b[0m\u001b[0;34m(\u001b[0m\u001b[0mX_fake\u001b[0m\u001b[0;34m,\u001b[0m \u001b[0my_fake\u001b[0m\u001b[0;34m)\u001b[0m\u001b[0;34m\u001b[0m\u001b[0;34m\u001b[0m\u001b[0m\n\u001b[0m\u001b[1;32m     31\u001b[0m         \u001b[0;31m# update the generator via the discriminator's error\u001b[0m\u001b[0;34m\u001b[0m\u001b[0;34m\u001b[0m\u001b[0;34m\u001b[0m\u001b[0m\n\u001b[1;32m     32\u001b[0m         \u001b[0mz_input\u001b[0m \u001b[0;34m=\u001b[0m \u001b[0mgenerate_latent_points\u001b[0m\u001b[0;34m(\u001b[0m\u001b[0mlatent_dim\u001b[0m\u001b[0;34m,\u001b[0m \u001b[0mn_batch\u001b[0m\u001b[0;34m)\u001b[0m\u001b[0;34m\u001b[0m\u001b[0;34m\u001b[0m\u001b[0m\n",
      "\u001b[0;32m~/anaconda3/lib/python3.7/site-packages/keras/engine/training.py\u001b[0m in \u001b[0;36mtrain_on_batch\u001b[0;34m(self, x, y, sample_weight, class_weight, reset_metrics)\u001b[0m\n\u001b[1;32m   1512\u001b[0m             \u001b[0mins\u001b[0m \u001b[0;34m=\u001b[0m \u001b[0mx\u001b[0m \u001b[0;34m+\u001b[0m \u001b[0my\u001b[0m \u001b[0;34m+\u001b[0m \u001b[0msample_weights\u001b[0m\u001b[0;34m\u001b[0m\u001b[0;34m\u001b[0m\u001b[0m\n\u001b[1;32m   1513\u001b[0m         \u001b[0mself\u001b[0m\u001b[0;34m.\u001b[0m\u001b[0m_make_train_function\u001b[0m\u001b[0;34m(\u001b[0m\u001b[0;34m)\u001b[0m\u001b[0;34m\u001b[0m\u001b[0;34m\u001b[0m\u001b[0m\n\u001b[0;32m-> 1514\u001b[0;31m         \u001b[0moutputs\u001b[0m \u001b[0;34m=\u001b[0m \u001b[0mself\u001b[0m\u001b[0;34m.\u001b[0m\u001b[0mtrain_function\u001b[0m\u001b[0;34m(\u001b[0m\u001b[0mins\u001b[0m\u001b[0;34m)\u001b[0m\u001b[0;34m\u001b[0m\u001b[0;34m\u001b[0m\u001b[0m\n\u001b[0m\u001b[1;32m   1515\u001b[0m \u001b[0;34m\u001b[0m\u001b[0m\n\u001b[1;32m   1516\u001b[0m         \u001b[0;32mif\u001b[0m \u001b[0mreset_metrics\u001b[0m\u001b[0;34m:\u001b[0m\u001b[0;34m\u001b[0m\u001b[0;34m\u001b[0m\u001b[0m\n",
      "\u001b[0;32m~/.local/lib/python3.7/site-packages/tensorflow/python/keras/backend.py\u001b[0m in \u001b[0;36m__call__\u001b[0;34m(self, inputs)\u001b[0m\n\u001b[1;32m   3290\u001b[0m \u001b[0;34m\u001b[0m\u001b[0m\n\u001b[1;32m   3291\u001b[0m     fetched = self._callable_fn(*array_vals,\n\u001b[0;32m-> 3292\u001b[0;31m                                 run_metadata=self.run_metadata)\n\u001b[0m\u001b[1;32m   3293\u001b[0m     \u001b[0mself\u001b[0m\u001b[0;34m.\u001b[0m\u001b[0m_call_fetch_callbacks\u001b[0m\u001b[0;34m(\u001b[0m\u001b[0mfetched\u001b[0m\u001b[0;34m[\u001b[0m\u001b[0;34m-\u001b[0m\u001b[0mlen\u001b[0m\u001b[0;34m(\u001b[0m\u001b[0mself\u001b[0m\u001b[0;34m.\u001b[0m\u001b[0m_fetches\u001b[0m\u001b[0;34m)\u001b[0m\u001b[0;34m:\u001b[0m\u001b[0;34m]\u001b[0m\u001b[0;34m)\u001b[0m\u001b[0;34m\u001b[0m\u001b[0;34m\u001b[0m\u001b[0m\n\u001b[1;32m   3294\u001b[0m     output_structure = nest.pack_sequence_as(\n",
      "\u001b[0;32m~/.local/lib/python3.7/site-packages/tensorflow/python/client/session.py\u001b[0m in \u001b[0;36m__call__\u001b[0;34m(self, *args, **kwargs)\u001b[0m\n\u001b[1;32m   1456\u001b[0m         ret = tf_session.TF_SessionRunCallable(self._session._session,\n\u001b[1;32m   1457\u001b[0m                                                \u001b[0mself\u001b[0m\u001b[0;34m.\u001b[0m\u001b[0m_handle\u001b[0m\u001b[0;34m,\u001b[0m \u001b[0margs\u001b[0m\u001b[0;34m,\u001b[0m\u001b[0;34m\u001b[0m\u001b[0;34m\u001b[0m\u001b[0m\n\u001b[0;32m-> 1458\u001b[0;31m                                                run_metadata_ptr)\n\u001b[0m\u001b[1;32m   1459\u001b[0m         \u001b[0;32mif\u001b[0m \u001b[0mrun_metadata\u001b[0m\u001b[0;34m:\u001b[0m\u001b[0;34m\u001b[0m\u001b[0;34m\u001b[0m\u001b[0m\n\u001b[1;32m   1460\u001b[0m           \u001b[0mproto_data\u001b[0m \u001b[0;34m=\u001b[0m \u001b[0mtf_session\u001b[0m\u001b[0;34m.\u001b[0m\u001b[0mTF_GetBuffer\u001b[0m\u001b[0;34m(\u001b[0m\u001b[0mrun_metadata_ptr\u001b[0m\u001b[0;34m)\u001b[0m\u001b[0;34m\u001b[0m\u001b[0;34m\u001b[0m\u001b[0m\n",
      "\u001b[0;31mKeyboardInterrupt\u001b[0m: "
     ]
    }
   ],
   "source": [
    "from progan import main\n",
    "main(4)  "
   ]
  }
 ],
 "metadata": {
  "kernelspec": {
   "display_name": "Python [conda env:root] *",
   "language": "python",
   "name": "conda-root-py"
  },
  "language_info": {
   "codemirror_mode": {
    "name": "ipython",
    "version": 3
   },
   "file_extension": ".py",
   "mimetype": "text/x-python",
   "name": "python",
   "nbconvert_exporter": "python",
   "pygments_lexer": "ipython3",
   "version": "3.7.3"
  }
 },
 "nbformat": 4,
 "nbformat_minor": 2
}
