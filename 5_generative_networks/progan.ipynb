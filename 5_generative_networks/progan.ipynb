{
 "cells": [
  {
   "cell_type": "code",
   "execution_count": 1,
   "metadata": {
    "scrolled": false
   },
   "outputs": [
    {
     "name": "stderr",
     "output_type": "stream",
     "text": [
      "/home/pawel/.local/lib/python3.7/site-packages/tensorflow/python/framework/dtypes.py:516: FutureWarning: Passing (type, 1) or '1type' as a synonym of type is deprecated; in a future version of numpy, it will be understood as (type, (1,)) / '(1,)type'.\n",
      "  _np_qint8 = np.dtype([(\"qint8\", np.int8, 1)])\n",
      "/home/pawel/.local/lib/python3.7/site-packages/tensorflow/python/framework/dtypes.py:517: FutureWarning: Passing (type, 1) or '1type' as a synonym of type is deprecated; in a future version of numpy, it will be understood as (type, (1,)) / '(1,)type'.\n",
      "  _np_quint8 = np.dtype([(\"quint8\", np.uint8, 1)])\n",
      "/home/pawel/.local/lib/python3.7/site-packages/tensorflow/python/framework/dtypes.py:518: FutureWarning: Passing (type, 1) or '1type' as a synonym of type is deprecated; in a future version of numpy, it will be understood as (type, (1,)) / '(1,)type'.\n",
      "  _np_qint16 = np.dtype([(\"qint16\", np.int16, 1)])\n",
      "/home/pawel/.local/lib/python3.7/site-packages/tensorflow/python/framework/dtypes.py:519: FutureWarning: Passing (type, 1) or '1type' as a synonym of type is deprecated; in a future version of numpy, it will be understood as (type, (1,)) / '(1,)type'.\n",
      "  _np_quint16 = np.dtype([(\"quint16\", np.uint16, 1)])\n",
      "/home/pawel/.local/lib/python3.7/site-packages/tensorflow/python/framework/dtypes.py:520: FutureWarning: Passing (type, 1) or '1type' as a synonym of type is deprecated; in a future version of numpy, it will be understood as (type, (1,)) / '(1,)type'.\n",
      "  _np_qint32 = np.dtype([(\"qint32\", np.int32, 1)])\n",
      "/home/pawel/.local/lib/python3.7/site-packages/tensorflow/python/framework/dtypes.py:525: FutureWarning: Passing (type, 1) or '1type' as a synonym of type is deprecated; in a future version of numpy, it will be understood as (type, (1,)) / '(1,)type'.\n",
      "  np_resource = np.dtype([(\"resource\", np.ubyte, 1)])\n",
      "Using TensorFlow backend.\n"
     ]
    },
    {
     "name": "stdout",
     "output_type": "stream",
     "text": [
      "-------------\n",
      "\n",
      "\n",
      "GPU:True\n",
      "\n",
      "\n",
      "-------------\n",
      "Num GPUs: 1\n",
      "WARNING:tensorflow:From /home/pawel/anaconda3/lib/python3.7/site-packages/keras/backend/tensorflow_backend.py:4074: The name tf.nn.avg_pool is deprecated. Please use tf.nn.avg_pool2d instead.\n",
      "\n",
      "tracking <tf.Variable 'ws_alpha:0' shape=() dtype=float32> alpha\n",
      "tracking <tf.Variable 'ws_alpha_1:0' shape=() dtype=float32> alpha\n",
      "tracking <tf.Variable 'ws_alpha_2:0' shape=() dtype=float32> alpha\n",
      "tracking <tf.Variable 'ws_alpha_3:0' shape=() dtype=float32> alpha\n",
      "Found 13322 images belonging to 1 classes.\n",
      "Found 0 images belonging to 1 classes.\n",
      "Scaled Data (None, 4, 4, 3)\n",
      "WARNING:tensorflow:From /home/pawel/anaconda3/lib/python3.7/site-packages/keras/backend/tensorflow_backend.py:422: The name tf.global_variables is deprecated. Please use tf.compat.v1.global_variables instead.\n",
      "\n",
      "WARNING:tensorflow:From /home/pawel/.local/lib/python3.7/site-packages/tensorflow/python/ops/math_grad.py:1250: add_dispatch_support.<locals>.wrapper (from tensorflow.python.ops.array_ops) is deprecated and will be removed in a future version.\n",
      "Instructions for updating:\n",
      "Use tf.where in 2.0, which has the same broadcast rule as np.where\n"
     ]
    },
    {
     "name": "stderr",
     "output_type": "stream",
     "text": [
      "/home/pawel/anaconda3/lib/python3.7/site-packages/keras/engine/training.py:297: UserWarning: Discrepancy between trainable weights and collected trainable weights, did you set `model.trainable` without calling `model.compile` after ?\n",
      "  'Discrepancy between trainable weights and collected trainable'\n",
      "/home/pawel/anaconda3/lib/python3.7/site-packages/keras/engine/training.py:297: UserWarning: Discrepancy between trainable weights and collected trainable weights, did you set `model.trainable` without calling `model.compile` after ?\n",
      "  'Discrepancy between trainable weights and collected trainable'\n"
     ]
    },
    {
     "name": "stdout",
     "output_type": "stream",
     "text": [
      "\r",
      ">1/106624, d1=19.641, d2=-36.699 g=35.728\r",
      ">2/106624, d1=4.260, d2=-27.081 g=29.096\r",
      ">3/106624, d1=4.007, d2=-33.867 g=31.663\r",
      ">4/106624, d1=4.634, d2=-24.073 g=33.908\r",
      ">5/106624, d1=3.538, d2=-25.996 g=27.079\r",
      ">6/106624, d1=7.037, d2=-31.394 g=31.414\r",
      ">7/106624, d1=3.439, d2=-32.254 g=33.490\r",
      ">8/106624, d1=3.835, d2=-42.828 g=35.729"
     ]
    },
    {
     "name": "stderr",
     "output_type": "stream",
     "text": [
      "/home/pawel/anaconda3/lib/python3.7/site-packages/keras/engine/training.py:297: UserWarning: Discrepancy between trainable weights and collected trainable weights, did you set `model.trainable` without calling `model.compile` after ?\n",
      "  'Discrepancy between trainable weights and collected trainable'\n"
     ]
    },
    {
     "name": "stdout",
     "output_type": "stream",
     "text": [
      ">106624/106624, d1=-103.124, d2=102.852 g=-103.226\n",
      ">Saved: plot_004x004-tuned.jpg and model_004x004-tuned.h5\n",
      "fake:\n"
     ]
    },
    {
     "data": {
      "text/plain": [
       "<Figure size 72x288 with 0 Axes>"
      ]
     },
     "metadata": {},
     "output_type": "display_data"
    },
    {
     "data": {
      "image/png": "[encoded data removed]",
      "text/plain": [
       "<Figure size 432x288 with 4 Axes>"
      ]
     },
     "metadata": {
      "needs_background": "light"
     },
     "output_type": "display_data"
    },
    {
     "name": "stdout",
     "output_type": "stream",
     "text": [
      "real:\n"
     ]
    },
    {
     "data": {
      "text/plain": [
       "<Figure size 72x288 with 0 Axes>"
      ]
     },
     "metadata": {},
     "output_type": "display_data"
    },
    {
     "data": {
      "image/png": "[encoded data removed]",
      "text/plain": [
       "<Figure size 432x288 with 4 Axes>"
      ]
     },
     "metadata": {
      "needs_background": "light"
     },
     "output_type": "display_data"
    },
    {
     "name": "stdout",
     "output_type": "stream",
     "text": [
      "Found 13322 images belonging to 1 classes.\n",
      "Found 0 images belonging to 1 classes.\n",
      "Scaled Data (None, 8, 8, 3)\n"
     ]
    },
    {
     "name": "stderr",
     "output_type": "stream",
     "text": [
      "/home/pawel/anaconda3/lib/python3.7/site-packages/keras/engine/training.py:297: UserWarning: Discrepancy between trainable weights and collected trainable weights, did you set `model.trainable` without calling `model.compile` after ?\n",
      "  'Discrepancy between trainable weights and collected trainable'\n"
     ]
    },
    {
     "name": "stdout",
     "output_type": "stream",
     "text": [
      "\r",
      ">1/213184, d1=-101.360, d2=101.453 g=-102.704\r",
      ">2/213184, d1=-97.990, d2=102.895 g=-103.249\r",
      ">3/213184, d1=-100.052, d2=99.967 g=-101.068\r",
      ">4/213184, d1=-100.399, d2=96.067 g=-102.808\r",
      ">5/213184, d1=-101.665, d2=101.753 g=-101.861\r",
      ">6/213184, d1=-95.613, d2=101.094 g=-103.028\r",
      ">7/213184, d1=-103.612, d2=103.459 g=-101.980\r",
      ">8/213184, d1=-101.053, d2=103.027 g=-102.364"
     ]
    },
    {
     "name": "stderr",
     "output_type": "stream",
     "text": [
      "/home/pawel/anaconda3/lib/python3.7/site-packages/keras/engine/training.py:297: UserWarning: Discrepancy between trainable weights and collected trainable weights, did you set `model.trainable` without calling `model.compile` after ?\n",
      "  'Discrepancy between trainable weights and collected trainable'\n"
     ]
    },
    {
     "name": "stdout",
     "output_type": "stream",
     "text": [
      ">213184/213184, d1=-534.397, d2=538.854 g=-536.011500\n",
      ">Saved: plot_008x008-faded.jpg and model_008x008-faded.h5\n"
     ]
    },
    {
     "name": "stderr",
     "output_type": "stream",
     "text": [
      "/home/pawel/anaconda3/lib/python3.7/site-packages/keras/engine/training.py:297: UserWarning: Discrepancy between trainable weights and collected trainable weights, did you set `model.trainable` without calling `model.compile` after ?\n",
      "  'Discrepancy between trainable weights and collected trainable'\n"
     ]
    },
    {
     "name": "stdout",
     "output_type": "stream",
     "text": [
      "\r",
      ">1/213184, d1=-871.670, d2=484.470 g=-553.392\r",
      ">2/213184, d1=-823.646, d2=559.090 g=-709.488\r",
      ">3/213184, d1=-527.329, d2=516.446 g=-563.537\r",
      ">4/213184, d1=-525.849, d2=566.453 g=-539.334\r",
      ">5/213184, d1=-527.710, d2=544.354 g=-566.781\r",
      ">6/213184, d1=-509.842, d2=742.095 g=-639.060\r",
      ">7/213184, d1=-486.727, d2=554.764 g=-392.864\r",
      ">8/213184, d1=-509.543, d2=483.728 g=-544.322"
     ]
    },
    {
     "name": "stderr",
     "output_type": "stream",
     "text": [
      "/home/pawel/anaconda3/lib/python3.7/site-packages/keras/engine/training.py:297: UserWarning: Discrepancy between trainable weights and collected trainable weights, did you set `model.trainable` without calling `model.compile` after ?\n",
      "  'Discrepancy between trainable weights and collected trainable'\n"
     ]
    },
    {
     "name": "stdout",
     "output_type": "stream",
     "text": [
      ">213184/213184, d1=-4075.131, d2=4459.691 g=-4219.303292112\n",
      ">Saved: plot_008x008-tuned.jpg and model_008x008-tuned.h5\n",
      "fake:\n"
     ]
    },
    {
     "data": {
      "text/plain": [
       "<Figure size 72x288 with 0 Axes>"
      ]
     },
     "metadata": {},
     "output_type": "display_data"
    },
    {
     "data": {
      "image/png": "[encoded data removed]",
      "text/plain": [
       "<Figure size 432x288 with 4 Axes>"
      ]
     },
     "metadata": {
      "needs_background": "light"
     },
     "output_type": "display_data"
    },
    {
     "name": "stdout",
     "output_type": "stream",
     "text": [
      "real:\n"
     ]
    },
    {
     "data": {
      "text/plain": [
       "<Figure size 72x288 with 0 Axes>"
      ]
     },
     "metadata": {},
     "output_type": "display_data"
    },
    {
     "data": {
      "image/png": "[encoded data removed]",
      "text/plain": [
       "<Figure size 432x288 with 4 Axes>"
      ]
     },
     "metadata": {
      "needs_background": "light"
     },
     "output_type": "display_data"
    },
    {
     "name": "stdout",
     "output_type": "stream",
     "text": [
      "Found 13322 images belonging to 1 classes.\n",
      "Found 0 images belonging to 1 classes.\n",
      "Scaled Data (None, 16, 16, 3)\n"
     ]
    },
    {
     "name": "stderr",
     "output_type": "stream",
     "text": [
      "/home/pawel/anaconda3/lib/python3.7/site-packages/keras/engine/training.py:297: UserWarning: Discrepancy between trainable weights and collected trainable weights, did you set `model.trainable` without calling `model.compile` after ?\n",
      "  'Discrepancy between trainable weights and collected trainable'\n"
     ]
    },
    {
     "name": "stdout",
     "output_type": "stream",
     "text": [
      "\r",
      ">1/426304, d1=-3862.829, d2=4258.504 g=-4020.378\r",
      ">2/426304, d1=-4086.077, d2=4150.505 g=-4183.113\r",
      ">3/426304, d1=-4032.595, d2=4172.520 g=-4190.491\r",
      ">4/426304, d1=-4227.870, d2=4170.786 g=-4120.456\r",
      ">5/426304, d1=-4011.209, d2=4151.083 g=-4120.860\r",
      ">6/426304, d1=-4117.060, d2=4178.400 g=-4189.026\r",
      ">7/426304, d1=-4089.638, d2=4057.794 g=-4187.283"
     ]
    },
    {
     "name": "stderr",
     "output_type": "stream",
     "text": [
      "/home/pawel/anaconda3/lib/python3.7/site-packages/keras/engine/training.py:297: UserWarning: Discrepancy between trainable weights and collected trainable weights, did you set `model.trainable` without calling `model.compile` after ?\n",
      "  'Discrepancy between trainable weights and collected trainable'\n"
     ]
    },
    {
     "name": "stdout",
     "output_type": "stream",
     "text": [
      ">426304/426304, d1=-6505.201, d2=6267.744 g=-6281.72322872\n",
      ">Saved: plot_016x016-faded.jpg and model_016x016-faded.h5\n"
     ]
    },
    {
     "name": "stderr",
     "output_type": "stream",
     "text": [
      "/home/pawel/anaconda3/lib/python3.7/site-packages/keras/engine/training.py:297: UserWarning: Discrepancy between trainable weights and collected trainable weights, did you set `model.trainable` without calling `model.compile` after ?\n",
      "  'Discrepancy between trainable weights and collected trainable'\n"
     ]
    },
    {
     "name": "stdout",
     "output_type": "stream",
     "text": [
      "\r",
      ">1/426304, d1=-6407.004, d2=6306.573 g=-6572.107\r",
      ">2/426304, d1=-6486.751, d2=6359.504 g=-6318.125\r",
      ">3/426304, d1=-6576.517, d2=6360.355 g=-6532.654\r",
      ">4/426304, d1=-6388.207, d2=6156.970 g=-6221.869\r",
      ">5/426304, d1=-6945.896, d2=6697.520 g=-6282.368\r",
      ">6/426304, d1=-6312.495, d2=6846.223 g=-6317.561\r",
      ">7/426304, d1=-7372.551, d2=6589.651 g=-6741.479\r",
      ">8/426304, d1=-6933.279, d2=6582.978 g=-6374.406"
     ]
    },
    {
     "name": "stderr",
     "output_type": "stream",
     "text": [
      "/home/pawel/anaconda3/lib/python3.7/site-packages/keras/engine/training.py:297: UserWarning: Discrepancy between trainable weights and collected trainable weights, did you set `model.trainable` without calling `model.compile` after ?\n",
      "  'Discrepancy between trainable weights and collected trainable'\n"
     ]
    },
    {
     "name": "stdout",
     "output_type": "stream",
     "text": [
      ">426304/426304, d1=-1589.876, d2=1625.035 g=-1586.6329250\n",
      ">Saved: plot_016x016-tuned.jpg and model_016x016-tuned.h5\n",
      "fake:\n"
     ]
    },
    {
     "data": {
      "text/plain": [
       "<Figure size 72x288 with 0 Axes>"
      ]
     },
     "metadata": {},
     "output_type": "display_data"
    },
    {
     "data": {
      "image/png": "[encoded data removed]",
      "text/plain": [
       "<Figure size 432x288 with 4 Axes>"
      ]
     },
     "metadata": {
      "needs_background": "light"
     },
     "output_type": "display_data"
    },
    {
     "name": "stdout",
     "output_type": "stream",
     "text": [
      "real:\n"
     ]
    },
    {
     "data": {
      "text/plain": [
       "<Figure size 0x288 with 0 Axes>"
      ]
     },
     "metadata": {},
     "output_type": "display_data"
    },
    {
     "data": {
      "text/plain": [
       "<Figure size 432x288 with 0 Axes>"
      ]
     },
     "metadata": {},
     "output_type": "display_data"
    }
   ],
   "source": [
    "from progan import main\n",
    "\n",
    "models = main(1, 1, dataset_name=\"faces\", n_epochs= [64, 64, 64, 64, 64], n_batch=[16, 8, 4, 4], learning_rate=0.001, n_blocks=3)  "
   ]
  },
  {
   "cell_type": "code",
   "execution_count": 2,
   "metadata": {},
   "outputs": [
    {
     "ename": "NameError",
     "evalue": "name 'plt' is not defined",
     "output_type": "error",
     "traceback": [
      "\u001b[0;31m---------------------------------------------------------------------------\u001b[0m",
      "\u001b[0;31mNameError\u001b[0m                                 Traceback (most recent call last)",
      "\u001b[0;32m<ipython-input-2-4d272f40e527>\u001b[0m in \u001b[0;36m<module>\u001b[0;34m\u001b[0m\n\u001b[1;32m      5\u001b[0m \u001b[0mimg\u001b[0m \u001b[0;34m=\u001b[0m \u001b[0mmodel\u001b[0m\u001b[0;34m.\u001b[0m\u001b[0mpredict\u001b[0m\u001b[0;34m(\u001b[0m\u001b[0mx\u001b[0m\u001b[0;34m)\u001b[0m\u001b[0;34m\u001b[0m\u001b[0;34m\u001b[0m\u001b[0m\n\u001b[1;32m      6\u001b[0m \u001b[0mimg\u001b[0m \u001b[0;34m=\u001b[0m \u001b[0mdeprocess\u001b[0m\u001b[0;34m(\u001b[0m\u001b[0mimg\u001b[0m\u001b[0;34m)\u001b[0m\u001b[0;34m\u001b[0m\u001b[0;34m\u001b[0m\u001b[0m\n\u001b[0;32m----> 7\u001b[0;31m \u001b[0mplt\u001b[0m\u001b[0;34m.\u001b[0m\u001b[0mimshow\u001b[0m\u001b[0;34m(\u001b[0m\u001b[0mimg\u001b[0m\u001b[0;34m[\u001b[0m\u001b[0;36m0\u001b[0m\u001b[0;34m]\u001b[0m \u001b[0;34m)\u001b[0m\u001b[0;34m\u001b[0m\u001b[0;34m\u001b[0m\u001b[0m\n\u001b[0m",
      "\u001b[0;31mNameError\u001b[0m: name 'plt' is not defined"
     ]
    }
   ],
   "source": [
    "from progan.misc import generate_latent_points\n",
    "model = models[0][-1][-1]\n",
    "from progan.misc import generate_fake_samples, deprocess\n",
    "x = generate_latent_points(128, 4)\n",
    "img = model.predict(x)\n",
    "img = deprocess(img)\n",
    "plt.imshow(img[0] )"
   ]
  },
  {
   "cell_type": "code",
   "execution_count": null,
   "metadata": {},
   "outputs": [],
   "source": [
    "from keras.models import load_model\n",
    "from progan.layers import EqualizedConv2D, PixelNormalization, WeightedSum\n",
    "model = load_model('models/trained_flowers_progan.model', custom_objects={'EqualizedConv2D': EqualizedConv2D, \"PixelNormalization\": PixelNormalization, \"WeightedSum\": WeightedSum}, compile=False)"
   ]
  },
  {
   "cell_type": "code",
   "execution_count": null,
   "metadata": {},
   "outputs": [],
   "source": [
    "import matplotlib.pyplot as plt\n",
    "import numpy as np\n",
    "from progan.misc import generate_fake_samples, deprocess\n",
    "x = np.array([[ 0.26544273,  0.72333947, -1.69803823,  0.90727682,  1.46767853,  0.73938951,\n",
    "   0.54402616, -1.5821976,  -0.11422217, -1.09526575, -0.1551966,   0.37734494,\n",
    "  -1.49464544, -1.00813581, -0.42628359, -0.84789194, -0.2439283,  -0.03901315,\n",
    "   1.22679182, -0.17196136,  1.54725344, -1.58752286, -0.26218116, -0.26394596,\n",
    "  -1.0425228,   1.53646493,  0.68358083, -2.04600631,  0.69546221,  1.78680123,\n",
    "   0.17955481, -0.33993202, -1.03073636, -0.58632539,  1.58820995,  0.34986026,\n",
    "   0.21593734, -1.01792888,  0.79194488, -0.65971264, -0.75150692,  1.22856588,\n",
    "  -1.65690304,  1.99630083,  1.06051463, -1.26285863, -0.33525001, -0.61691904,\n",
    "  -0.62091365, -1.0381726,  0.92088735,  0.6554259,   1.65505681,  0.0873252,\n",
    "   0.35359788,  1.5081247,  -1.23960572,  0.92730464,  1.61475315, -1.07181584,\n",
    "   1.18679766,  1.31599883, -1.80034507,  1.05458423, -0.35341015, -1.24416506,\n",
    "   1.68835831, -1.36500173, -1.09911962,  0.27151803, -1.22340339, -0.43752083,\n",
    "  -1.52831321,  1.26090537,  0.09854825,  0.49404091,  1.87344636, -0.23875884,\n",
    "   0.23188341, -1.27907647, -0.77867746,  1.37765962,  0.40738244, -1.03109379,\n",
    "  -1.30310628, -1.43405849, -1.24845638,  1.12524812, 0.89311752, -1.4643267,\n",
    "   1.4460108,  1.4843954,   0.67936684,  -2.5109909,   0.34907461,  0.53481045,\n",
    "  -0.38592618, -0.24562738,  1.20614088, -0.64118172, -2.04584106, -1.85107809,\n",
    "  -1.38314179, -1.58818231,  1.26461706,  0.64558828,  0.87052612, -0.40759645,\n",
    "   1.21981539, -0.43630949, -1.61278803, -0.35433373,  0.46363095, -0.50808839,\n",
    "   1.87126765, -1.21669719, -0.89032544,  0.18443735, -2.54730766, -0.29458666,\n",
    "  -0.08754665, -1.27219294, -2,  4,  1, -0.5,\n",
    "   0.38525052, -0.12718867]])*2-2\n",
    "img = model.predict(x)\n",
    "img = deprocess(img)\n",
    "plt.imshow(img[0])\n",
    "print(x)"
   ]
  },
  {
   "cell_type": "code",
   "execution_count": null,
   "metadata": {},
   "outputs": [],
   "source": [
    "\n",
    "\n",
    "\n",
    "\n",
    "\n",
    "\n",
    "\n",
    "\n",
    "\n",
    "\n",
    "\n",
    "\n",
    "\n",
    "\n"
   ]
  }
 ],
 "metadata": {
  "kernelspec": {
   "display_name": "Python [conda env:root] *",
   "language": "python",
   "name": "conda-root-py"
  },
  "language_info": {
   "codemirror_mode": {
    "name": "ipython",
    "version": 3
   },
   "file_extension": ".py",
   "mimetype": "text/x-python",
   "name": "python",
   "nbconvert_exporter": "python",
   "pygments_lexer": "ipython3",
   "version": "3.7.3"
  }
 },
 "nbformat": 4,
 "nbformat_minor": 2
}
