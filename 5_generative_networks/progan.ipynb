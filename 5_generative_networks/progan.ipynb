{
 "cells": [
  {
   "cell_type": "code",
   "execution_count": null,
   "metadata": {},
   "outputs": [
    {
     "name": "stdout",
     "output_type": "stream",
     "text": [
      "-------------\n",
      "\n",
      "\n",
      "GPU:True\n",
      "\n",
      "\n",
      "-------------\n",
      "1.3741088103166372\n",
      "2.0015570338626403\n",
      "2.0\n",
      "1.578436529997654\n",
      "2.29739670999407\n",
      "2.29739670999407\n",
      "tracking <tf.Variable 'ws_alpha_12:0' shape=() dtype=float32> alpha\n",
      "1.8131474454755332\n",
      "2.639015821545789\n",
      "2.639015821545789\n",
      "tracking <tf.Variable 'ws_alpha_13:0' shape=() dtype=float32> alpha\n",
      "2.0827594879848212\n",
      "3.0314331330207964\n",
      "3.0314331330207964\n",
      "tracking <tf.Variable 'ws_alpha_14:0' shape=() dtype=float32> alpha\n",
      "2.392462397702631\n",
      "3.482202253184497\n",
      "3.482202253184497\n",
      "tracking <tf.Variable 'ws_alpha_15:0' shape=() dtype=float32> alpha\n",
      "2.7482176206332745\n",
      "4.0\n",
      "4.0\n",
      "tracking <tf.Variable 'ws_alpha_16:0' shape=() dtype=float32> alpha\n",
      "3.156873059995308\n",
      "4.59479341998814\n",
      "4.59479341998814\n",
      "tracking <tf.Variable 'ws_alpha_17:0' shape=() dtype=float32> alpha\n",
      "2.0\n",
      "2.0\n",
      "2.0\n",
      "2.29739670999407\n",
      "2.4622888266898326\n",
      "2.4622888266898326\n",
      "tracking <tf.Variable 'ws_alpha_18:0' shape=() dtype=float32> alpha\n",
      "2.8284271247461903\n",
      "2.8284271247461903\n",
      "2.8284271247461903\n",
      "tracking <tf.Variable 'ws_alpha_19:0' shape=() dtype=float32> alpha\n",
      "3.2490095854249423\n",
      "3.2490095854249423\n",
      "3.2490095854249423\n",
      "tracking <tf.Variable 'ws_alpha_20:0' shape=() dtype=float32> alpha\n",
      "3.73213196614723\n",
      "3.73213196614723\n",
      "3.73213196614723\n",
      "tracking <tf.Variable 'ws_alpha_21:0' shape=() dtype=float32> alpha\n",
      "4.287093850145173\n",
      "4.287093850145173\n",
      "4.287093850145173\n",
      "tracking <tf.Variable 'ws_alpha_22:0' shape=() dtype=float32> alpha\n",
      "4.924577653379665\n",
      "4.924577653379665\n",
      "4.924577653379665\n",
      "tracking <tf.Variable 'ws_alpha_23:0' shape=() dtype=float32> alpha\n",
      "Found 160 images belonging to 1 classes.\n",
      "Found 0 images belonging to 1 classes.\n",
      "Scaled Data (None, 4, 4, 3)\n"
     ]
    },
    {
     "name": "stderr",
     "output_type": "stream",
     "text": [
      "/home/pawel/anaconda3/lib/python3.7/site-packages/keras/engine/training.py:297: UserWarning: Discrepancy between trainable weights and collected trainable weights, did you set `model.trainable` without calling `model.compile` after ?\n",
      "  'Discrepancy between trainable weights and collected trainable'\n"
     ]
    },
    {
     "name": "stdout",
     "output_type": "stream",
     "text": [
      "\r",
      ">1/2560, d1=-0.000, d2=0.008 g=-0.007\r",
      ">2/2560, d1=-0.019, d2=2.366 g=2.006\r",
      ">3/2560, d1=0.209, d2=-0.031 g=0.989\r",
      ">4/2560, d1=-0.211, d2=-0.326 g=4.013\r",
      ">5/2560, d1=-0.445, d2=1.196 g=0.115\r",
      ">6/2560, d1=-0.518, d2=0.907 g=0.108"
     ]
    },
    {
     "name": "stderr",
     "output_type": "stream",
     "text": [
      "/home/pawel/anaconda3/lib/python3.7/site-packages/keras/engine/training.py:297: UserWarning: Discrepancy between trainable weights and collected trainable weights, did you set `model.trainable` without calling `model.compile` after ?\n",
      "  'Discrepancy between trainable weights and collected trainable'\n"
     ]
    },
    {
     "name": "stdout",
     "output_type": "stream",
     "text": [
      ">2560/2560, d1=-1378.866, d2=292.337 g=288.68742\n",
      ">Saved: plot_004x004-tuned.png and model_004x004-tuned.h5\n"
     ]
    },
    {
     "data": {
      "image/png": "[encoded data removed]",
      "text/plain": [
       "<Figure size 72x288 with 4 Axes>"
      ]
     },
     "metadata": {},
     "output_type": "display_data"
    },
    {
     "name": "stdout",
     "output_type": "stream",
     "text": [
      "Found 160 images belonging to 1 classes.\n",
      "Found 0 images belonging to 1 classes.\n",
      "Scaled Data (None, 8, 8, 3)\n"
     ]
    },
    {
     "name": "stderr",
     "output_type": "stream",
     "text": [
      "/home/pawel/anaconda3/lib/python3.7/site-packages/keras/engine/training.py:297: UserWarning: Discrepancy between trainable weights and collected trainable weights, did you set `model.trainable` without calling `model.compile` after ?\n",
      "  'Discrepancy between trainable weights and collected trainable'\n"
     ]
    },
    {
     "name": "stdout",
     "output_type": "stream",
     "text": [
      "\r",
      ">1/5120, d1=743.314, d2=-429.304 g=254.174\r",
      ">2/5120, d1=941.110, d2=118.990 g=139.765\r",
      ">3/5120, d1=318.679, d2=-94.650 g=212.808\r",
      ">4/5120, d1=328.512, d2=-199.702 g=79.413\r",
      ">5/5120, d1=234.645, d2=258.046 g=373.699"
     ]
    },
    {
     "name": "stderr",
     "output_type": "stream",
     "text": [
      "/home/pawel/anaconda3/lib/python3.7/site-packages/keras/engine/training.py:297: UserWarning: Discrepancy between trainable weights and collected trainable weights, did you set `model.trainable` without calling `model.compile` after ?\n",
      "  'Discrepancy between trainable weights and collected trainable'\n"
     ]
    },
    {
     "name": "stdout",
     "output_type": "stream",
     "text": [
      ">5120/5120, d1=-3245911552.000, d2=951595648.000 g=959326208.000000\n",
      ">Saved: plot_008x008-faded.png and model_008x008-faded.h5\n"
     ]
    },
    {
     "name": "stderr",
     "output_type": "stream",
     "text": [
      "/home/pawel/anaconda3/lib/python3.7/site-packages/keras/engine/training.py:297: UserWarning: Discrepancy between trainable weights and collected trainable weights, did you set `model.trainable` without calling `model.compile` after ?\n",
      "  'Discrepancy between trainable weights and collected trainable'\n"
     ]
    },
    {
     "name": "stdout",
     "output_type": "stream",
     "text": [
      "\r",
      ">1/5120, d1=-1798502144.000, d2=26306128.000 g=554908032.000\r",
      ">2/5120, d1=-1359475584.000, d2=153054688.000 g=446876416.000\r",
      ">3/5120, d1=-2409604096.000, d2=-482294400.000 g=824397568.000\r",
      ">4/5120, d1=-1391016192.000, d2=-747853760.000 g=753583168.000\r",
      ">5/5120, d1=-2577011712.000, d2=-546066496.000 g=1100982528.000"
     ]
    },
    {
     "name": "stderr",
     "output_type": "stream",
     "text": [
      "/home/pawel/anaconda3/lib/python3.7/site-packages/keras/engine/training.py:297: UserWarning: Discrepancy between trainable weights and collected trainable weights, did you set `model.trainable` without calling `model.compile` after ?\n",
      "  'Discrepancy between trainable weights and collected trainable'\n"
     ]
    },
    {
     "name": "stdout",
     "output_type": "stream",
     "text": [
      ">5120/5120, d1=-1213745024.000, d2=-3913368064.000 g=8401162240.00000\n",
      ">Saved: plot_008x008-tuned.png and model_008x008-tuned.h5\n"
     ]
    },
    {
     "data": {
      "image/png": "[encoded data removed]",
      "text/plain": [
       "<Figure size 72x288 with 4 Axes>"
      ]
     },
     "metadata": {},
     "output_type": "display_data"
    },
    {
     "name": "stdout",
     "output_type": "stream",
     "text": [
      "Found 160 images belonging to 1 classes.\n",
      "Found 0 images belonging to 1 classes.\n",
      "Scaled Data (None, 16, 16, 3)\n"
     ]
    },
    {
     "name": "stderr",
     "output_type": "stream",
     "text": [
      "/home/pawel/anaconda3/lib/python3.7/site-packages/keras/engine/training.py:297: UserWarning: Discrepancy between trainable weights and collected trainable weights, did you set `model.trainable` without calling `model.compile` after ?\n",
      "  'Discrepancy between trainable weights and collected trainable'\n"
     ]
    },
    {
     "name": "stdout",
     "output_type": "stream",
     "text": [
      "\r",
      ">1/10240, d1=7608426496.000, d2=-7031809536.000 g=8310084608.000\r",
      ">2/10240, d1=9144987648.000, d2=-5462530048.000 g=8361775104.000\r",
      ">3/10240, d1=9824372736.000, d2=-5312367616.000 g=6593463808.000\r",
      ">4/10240, d1=6972026880.000, d2=-5133341696.000 g=7419737600.000"
     ]
    },
    {
     "name": "stderr",
     "output_type": "stream",
     "text": [
      "/home/pawel/anaconda3/lib/python3.7/site-packages/keras/engine/training.py:297: UserWarning: Discrepancy between trainable weights and collected trainable weights, did you set `model.trainable` without calling `model.compile` after ?\n",
      "  'Discrepancy between trainable weights and collected trainable'\n"
     ]
    },
    {
     "name": "stdout",
     "output_type": "stream",
     "text": [
      ">10240/10240, d1=-167298824404992.000, d2=-316365311311872.000 g=739701547859968.00000\n",
      ">Saved: plot_016x016-faded.png and model_016x016-faded.h5\n"
     ]
    },
    {
     "name": "stderr",
     "output_type": "stream",
     "text": [
      "/home/pawel/anaconda3/lib/python3.7/site-packages/keras/engine/training.py:297: UserWarning: Discrepancy between trainable weights and collected trainable weights, did you set `model.trainable` without calling `model.compile` after ?\n",
      "  'Discrepancy between trainable weights and collected trainable'\n"
     ]
    },
    {
     "name": "stdout",
     "output_type": "stream",
     "text": [
      "\r",
      ">1/10240, d1=-12578113716224.000, d2=-356642205990912.000 g=648376718721024.000\r",
      ">2/10240, d1=-226287566192640.000, d2=-473097157214208.000 g=590811272052736.000\r",
      ">3/10240, d1=-279196563668992.000, d2=-492208184623104.000 g=569511388381184.000\r",
      ">4/10240, d1=-314736847618048.000, d2=-356753472487424.000 g=552540059992064.000"
     ]
    },
    {
     "name": "stderr",
     "output_type": "stream",
     "text": [
      "/home/pawel/anaconda3/lib/python3.7/site-packages/keras/engine/training.py:297: UserWarning: Discrepancy between trainable weights and collected trainable weights, did you set `model.trainable` without calling `model.compile` after ?\n",
      "  'Discrepancy between trainable weights and collected trainable'\n"
     ]
    },
    {
     "name": "stdout",
     "output_type": "stream",
     "text": [
      ">10240/10240, d1=1316959647956992.000, d2=-1326564537008128.000 g=2603668230635520.0000\n",
      ">Saved: plot_016x016-tuned.png and model_016x016-tuned.h5\n"
     ]
    },
    {
     "data": {
      "image/png": "[encoded data removed]",
      "text/plain": [
       "<Figure size 72x288 with 4 Axes>"
      ]
     },
     "metadata": {},
     "output_type": "display_data"
    },
    {
     "name": "stdout",
     "output_type": "stream",
     "text": [
      "Found 160 images belonging to 1 classes.\n",
      "Found 0 images belonging to 1 classes.\n",
      "Scaled Data (None, 32, 32, 3)\n"
     ]
    },
    {
     "name": "stderr",
     "output_type": "stream",
     "text": [
      "/home/pawel/anaconda3/lib/python3.7/site-packages/keras/engine/training.py:297: UserWarning: Discrepancy between trainable weights and collected trainable weights, did you set `model.trainable` without calling `model.compile` after ?\n",
      "  'Discrepancy between trainable weights and collected trainable'\n"
     ]
    },
    {
     "name": "stdout",
     "output_type": "stream",
     "text": [
      "\r",
      ">1/40960, d1=1734823727071232.000, d2=-2332752431022080.000 g=1988862184259584.000\r",
      ">2/40960, d1=2163643730886656.000, d2=-2561682240962560.000 g=2432701688709120.000\r",
      ">3/40960, d1=1624539570110464.000, d2=-2056338267963392.000 g=2494848791740416.000\r",
      ">4/40960, d1=3158102606086144.000, d2=-2653671313637376.000 g=1624550173310976.000"
     ]
    },
    {
     "name": "stderr",
     "output_type": "stream",
     "text": [
      "/home/pawel/anaconda3/lib/python3.7/site-packages/keras/engine/training.py:297: UserWarning: Discrepancy between trainable weights and collected trainable weights, did you set `model.trainable` without calling `model.compile` after ?\n",
      "  'Discrepancy between trainable weights and collected trainable'\n"
     ]
    },
    {
     "name": "stdout",
     "output_type": "stream",
     "text": [
      ">2664/40960, d1=-6125112097014546432.000, d2=-2216337814910402560.000 g=1450752816292298752.0000"
     ]
    }
   ],
   "source": [
    "from progan import main\n",
    "main()  "
   ]
  }
 ],
 "metadata": {
  "kernelspec": {
   "display_name": "Python [conda env:root] *",
   "language": "python",
   "name": "conda-root-py"
  },
  "language_info": {
   "codemirror_mode": {
    "name": "ipython",
    "version": 3
   },
   "file_extension": ".py",
   "mimetype": "text/x-python",
   "name": "python",
   "nbconvert_exporter": "python",
   "pygments_lexer": "ipython3",
   "version": "3.7.3"
  }
 },
 "nbformat": 4,
 "nbformat_minor": 2
}
