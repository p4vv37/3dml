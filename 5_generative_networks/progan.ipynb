{
 "cells": [
  {
   "cell_type": "code",
   "execution_count": null,
   "metadata": {},
   "outputs": [
    {
     "name": "stdout",
     "output_type": "stream",
     "text": [
      "-------------\n",
      "\n",
      "\n",
      "GPU:True\n",
      "\n",
      "\n",
      "-------------\n",
      "1.3741088103166372\n",
      "2.0015570338626403\n",
      "2.0\n",
      "1.578436529997654\n",
      "2.29739670999407\n",
      "2.29739670999407\n",
      "tracking <tf.Variable 'ws_alpha_12:0' shape=() dtype=float32> alpha\n",
      "1.8131474454755332\n",
      "2.639015821545789\n",
      "2.639015821545789\n",
      "tracking <tf.Variable 'ws_alpha_13:0' shape=() dtype=float32> alpha\n",
      "2.0827594879848212\n",
      "3.0314331330207964\n",
      "3.0314331330207964\n",
      "tracking <tf.Variable 'ws_alpha_14:0' shape=() dtype=float32> alpha\n",
      "2.392462397702631\n",
      "3.482202253184497\n",
      "3.482202253184497\n",
      "tracking <tf.Variable 'ws_alpha_15:0' shape=() dtype=float32> alpha\n",
      "2.7482176206332745\n",
      "4.0\n",
      "4.0\n",
      "tracking <tf.Variable 'ws_alpha_16:0' shape=() dtype=float32> alpha\n",
      "3.156873059995308\n",
      "4.59479341998814\n",
      "4.59479341998814\n",
      "tracking <tf.Variable 'ws_alpha_17:0' shape=() dtype=float32> alpha\n",
      "2.0\n",
      "2.0\n",
      "2.0\n",
      "2.29739670999407\n",
      "2.4622888266898326\n",
      "2.4622888266898326\n",
      "tracking <tf.Variable 'ws_alpha_18:0' shape=() dtype=float32> alpha\n",
      "2.8284271247461903\n",
      "2.8284271247461903\n",
      "2.8284271247461903\n",
      "tracking <tf.Variable 'ws_alpha_19:0' shape=() dtype=float32> alpha\n",
      "3.2490095854249423\n",
      "3.2490095854249423\n",
      "3.2490095854249423\n",
      "tracking <tf.Variable 'ws_alpha_20:0' shape=() dtype=float32> alpha\n",
      "3.73213196614723\n",
      "3.73213196614723\n"
     ]
    }
   ],
   "source": [
    "from progan import main\n",
    "main()  "
   ]
  }
 ],
 "metadata": {
  "kernelspec": {
   "display_name": "Python [conda env:root] *",
   "language": "python",
   "name": "conda-root-py"
  },
  "language_info": {
   "codemirror_mode": {
    "name": "ipython",
    "version": 3
   },
   "file_extension": ".py",
   "mimetype": "text/x-python",
   "name": "python",
   "nbconvert_exporter": "python",
   "pygments_lexer": "ipython3",
   "version": "3.7.3"
  }
 },
 "nbformat": 4,
 "nbformat_minor": 2
}
